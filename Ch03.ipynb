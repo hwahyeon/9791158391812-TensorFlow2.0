{
  "nbformat": 4,
  "nbformat_minor": 0,
  "metadata": {
    "colab": {
      "name": "Untitled0.ipynb",
      "provenance": [],
      "authorship_tag": "ABX9TyNDOrebKcq/yjjtjz3PYpbT",
      "include_colab_link": true
    },
    "kernelspec": {
      "name": "python3",
      "display_name": "Python 3"
    }
  },
  "cells": [
    {
      "cell_type": "markdown",
      "metadata": {
        "id": "view-in-github",
        "colab_type": "text"
      },
      "source": [
        "<a href=\"https://colab.research.google.com/github/hwahyeon/9791158391812-TensorFlow2.0/blob/main/Ch03.ipynb\" target=\"_parent\"><img src=\"https://colab.research.google.com/assets/colab-badge.svg\" alt=\"Open In Colab\"/></a>"
      ]
    },
    {
      "cell_type": "code",
      "metadata": {
        "id": "ok8VrIyQKegx"
      },
      "source": [
        "import tensorflow as tf\r\n",
        "import math"
      ],
      "execution_count": 3,
      "outputs": []
    },
    {
      "cell_type": "code",
      "metadata": {
        "id": "uz4cHvnj2FtB"
      },
      "source": [
        "# sigmoid\r\n",
        "\r\n",
        "def sigmoid(x):\r\n",
        "  return 1 / (1 + math.exp(-x))"
      ],
      "execution_count": 1,
      "outputs": []
    },
    {
      "cell_type": "code",
      "metadata": {
        "colab": {
          "base_uri": "https://localhost:8080/"
        },
        "id": "LSQ-QVRSKNqx",
        "outputId": "985f55d8-a101-4d54-8aae-55cf6ff866fb"
      },
      "source": [
        "x = 1\r\n",
        "y = 0\r\n",
        "w = tf.random.normal([1],0,1)\r\n",
        "output = sigmoid(x * w)\r\n",
        "print(output)"
      ],
      "execution_count": 4,
      "outputs": [
        {
          "output_type": "stream",
          "text": [
            "0.24762210199322163\n"
          ],
          "name": "stdout"
        }
      ]
    }
  ]
}